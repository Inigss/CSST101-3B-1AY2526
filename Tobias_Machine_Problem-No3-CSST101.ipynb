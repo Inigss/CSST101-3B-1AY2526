{
  "nbformat": 4,
  "nbformat_minor": 0,
  "metadata": {
    "colab": {
      "provenance": [],
      "include_colab_link": true
    },
    "kernelspec": {
      "name": "ir",
      "display_name": "R"
    },
    "language_info": {
      "name": "R"
    }
  },
  "cells": [
    {
      "cell_type": "markdown",
      "metadata": {
        "id": "view-in-github",
        "colab_type": "text"
      },
      "source": [
        "<a href=\"https://colab.research.google.com/github/Inigss/CSST101-3B-1AY2526/blob/main/Tobias_Machine_Problem-No3-CSST101.ipynb\" target=\"_parent\"><img src=\"https://colab.research.google.com/assets/colab-badge.svg\" alt=\"Open In Colab\"/></a>"
      ]
    },
    {
      "cell_type": "code",
      "execution_count": 18,
      "metadata": {
        "id": "B4Fuh8WHg-fl",
        "colab": {
          "base_uri": "https://localhost:8080/"
        },
        "outputId": "1cb11259-990b-4896-9d39-da47a4aea60a"
      },
      "outputs": [
        {
          "output_type": "stream",
          "name": "stdout",
          "text": [
            "Do you prefer mountains or beach? beach\n",
            "What is your budget in PHP? 10000000000\n",
            "[1] \"Suggested destination: Boracay.\"\n"
          ]
        }
      ],
      "source": [
        "# Title: Travel Recommender Expert System\n",
        "destination <- readline(prompt=\"Do you prefer mountains or beach? \")\n",
        "\n",
        "if (destination == \"mountains\") {\n",
        "  weather <- readline(prompt=\"Do you like cold weather? (yes/no): \")\n",
        "  if (weather == \"yes\") {\n",
        "    print(\"Suggested destination: Baguio City.\")\n",
        "  } else {\n",
        "    print(\"Suggested destination: Tagaytay.\")\n",
        "  }\n",
        "} else if (destination == \"beach\") {\n",
        "  budget <- as.numeric(readline(prompt=\"What is your budget in PHP? \"))\n",
        "  if (budget > 5000) {\n",
        "    print(\"Suggested destination: Boracay.\")\n",
        "  } else {\n",
        "    print(\"Suggested destination: Laiya, Batangas.\")\n",
        "  }\n",
        "} else {\n",
        "  print(\"Please select either mountains or beach.\")\n",
        "}\n"
      ]
    },
    {
      "cell_type": "code",
      "source": [
        "# Study Habit Coach\n",
        "\n",
        "study_time <- as.numeric(readline(\"How many hours do you study daily? \"))\n",
        "if (study_time < 2) {\n",
        "  print(\"Study at least 2 hours.\")\n",
        "} else {\n",
        "  if (study_time > 4) {\n",
        "    print(\"Take breaks to avoid burnout.\")\n",
        "  }\n",
        "}\n",
        "\n",
        "breaks <- readline(\"Do you take breaks? (yes/no): \")\n",
        "if (breaks == \"no\") {\n",
        "  print(\"Try Pomodoro: 25 mins study, 5 min break.\")\n",
        "}\n",
        "\n",
        "sleep_hours <- as.numeric(readline(\"How many hours of sleep do you get? \"))\n",
        "if (sleep_hours < 6) {\n",
        "  print(\"Aim for 7-8 hours of sleep.\")\n",
        "}\n",
        "\n",
        "study_environment <- readline(\"Is your study space quiet? (yes/no): \")\n",
        "if (study_environment == \"no\") {\n",
        "  print(\"Find a quiet spot.\")\n",
        "}\n",
        "\n",
        "print(\"Good luck\")\n",
        "\n"
      ],
      "metadata": {
        "id": "x31nfFrQx4yH",
        "outputId": "cf568853-6d31-47ed-98c6-5799dc3afcbe",
        "colab": {
          "base_uri": "https://localhost:8080/"
        }
      },
      "execution_count": 23,
      "outputs": [
        {
          "output_type": "stream",
          "name": "stdout",
          "text": [
            "How many hours do you study daily? 4\n",
            "Do you take breaks? (yes/no): no\n",
            "[1] \"Try Pomodoro: 25 mins study, 5 min break.\"\n",
            "How many hours of sleep do you get? 2\n",
            "[1] \"Aim for 7-8 hours of sleep.\"\n",
            "Is your study space quiet? (yes/no): no\n",
            "[1] \"Find a quiet spot.\"\n",
            "[1] \"Good luck\"\n"
          ]
        }
      ]
    }
  ]
}