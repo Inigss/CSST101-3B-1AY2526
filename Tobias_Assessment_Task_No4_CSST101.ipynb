{
  "nbformat": 4,
  "nbformat_minor": 0,
  "metadata": {
    "colab": {
      "provenance": [],
      "authorship_tag": "ABX9TyPBq70wSwyLdSzeXwOLjoH9",
      "include_colab_link": true
    },
    "kernelspec": {
      "name": "python3",
      "display_name": "Python 3"
    },
    "language_info": {
      "name": "python"
    }
  },
  "cells": [
    {
      "cell_type": "markdown",
      "metadata": {
        "id": "view-in-github",
        "colab_type": "text"
      },
      "source": [
        "<a href=\"https://colab.research.google.com/github/Inigss/CSST101-3B-1AY2526/blob/main/Tobias_Assessment_Task_No4_CSST101.ipynb\" target=\"_parent\"><img src=\"https://colab.research.google.com/assets/colab-badge.svg\" alt=\"Open In Colab\"/></a>"
      ]
    },
    {
      "cell_type": "markdown",
      "source": [
        "Part 1 - 1. When fresh information is presented, conclusions drawn from non-monotonic thinking may alter. It enables systems to \"unlearn,\" or change, presumptions in response to fresh information.\n",
        "\n",
        "2. According to monotonic reasoning, a conclusion is always correct, regardless of fresh information. Conversely, non-monotonic reasoning permits the removal or replacement of previous findings in the event that new information contradicts them.\n",
        "\n",
        "\n",
        "3. Example: Since your friend's lights are on, you believe they are at home. You find out later that they use automatically turning on smart lighting. Then, you decide that your friend might not be home.\n",
        "\n",
        "4. Unless there is proof to the contrary, a default rule is a broad assumption that is applied.\n",
        "For instance: \"If someone is enrolled, presume they attend classes on a regular basis — unless demonstrated otherwise.\"\n",
        "\n",
        "5. AI evaluates several, potentially contradictory rules with the aid of argumentation frameworks. To enable the AI to make the most rational choice, they determine which argument is more compelling or precise.\n"
      ],
      "metadata": {
        "id": "jke4hBn_veY3"
      }
    },
    {
      "cell_type": "code",
      "source": [
        "# CSST101 - Belief Revision Simulation (Version 2)\n",
        "# Demonstration of non-monotonic reasoning in AI\n",
        "# Part 2 Task 2\n",
        "\n",
        "def reasoning_system():\n",
        "    print(\"Initial Rule: If an animal is a bird, assume it can fly.\")\n",
        "    animal = input(\"Enter an animal: \").strip().lower()\n",
        "\n",
        "    bird_list = [\"eagle\", \"parrot\", \"sparrow\", \"penguin\", \"ostrich\"]\n",
        "    non_flying_birds = [\"penguin\", \"ostrich\"]\n",
        "\n",
        "    if animal not in bird_list:\n",
        "        print(f\"Step 1: {animal.capitalize()} is not identified as a bird.\")\n",
        "        print(f\"Conclusion: I cannot apply the rule to {animal}.\")\n",
        "    else:\n",
        "        print(f\"Step 1: {animal.capitalize()} is recognized as a bird.\")\n",
        "        print(\"Step 2: By default, birds can fly.\")\n",
        "        if animal in non_flying_birds:\n",
        "            print(f\"Step 3: But {animal.capitalize()} is a known exception.\")\n",
        "            print(f\"Revised Conclusion: {animal.capitalize()} cannot fly.\")\n",
        "        else:\n",
        "            print(f\"Step 3: No exceptions found for {animal.capitalize()}.\")\n",
        "            print(f\"Conclusion: {animal.capitalize()} can fly.\")\n",
        "\n",
        "reasoning_system()\n"
      ],
      "metadata": {
        "colab": {
          "base_uri": "https://localhost:8080/"
        },
        "id": "SA6j_XmavimO",
        "outputId": "f80df8a1-802f-47f6-f0dc-989889231a71"
      },
      "execution_count": 5,
      "outputs": [
        {
          "output_type": "stream",
          "name": "stdout",
          "text": [
            "Initial Rule: If an animal is a bird, assume it can fly.\n",
            "Enter an animal: eagle\n",
            "Step 1: Eagle is recognized as a bird.\n",
            "Step 2: By default, birds can fly.\n",
            "Step 3: No exceptions found for Eagle.\n",
            "Conclusion: Eagle can fly.\n"
          ]
        }
      ]
    },
    {
      "cell_type": "markdown",
      "source": [
        "#Part 3 Task 2\n",
        "Scenario:\n",
        "Rule 1: Birds usually fly.\n",
        "Rule 2: Some birds, like ostriches, do not fly.\n",
        "Fact: Kiwi is an ostrich.\n",
        "\n",
        "Argument A: Birds usually fly.\n",
        "Argument B: Ostriches are birds that cannot fly.\n",
        "\n",
        "→ Conflict:\n",
        "   - Argument A says Kiwi can fly.\n",
        "   - Argument B says Kiwi cannot fly.\n",
        "\n",
        "Resolution:\n",
        "   - Argument B is more specific and overrides Argument A.\n",
        "   - Therefore, the stronger argument (B) defeats the weaker (A).\n",
        "\n",
        "Final Conclusion: Kiwi cannot fly.\n",
        "\n",
        "\n"
      ],
      "metadata": {
        "id": "gWznBsRXwScn"
      }
    }
  ]
}