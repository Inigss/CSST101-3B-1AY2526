{
  "nbformat": 4,
  "nbformat_minor": 0,
  "metadata": {
    "colab": {
      "provenance": [],
      "include_colab_link": true
    },
    "kernelspec": {
      "name": "python3",
      "display_name": "Python 3"
    },
    "language_info": {
      "name": "python"
    }
  },
  "cells": [
    {
      "cell_type": "markdown",
      "metadata": {
        "id": "view-in-github",
        "colab_type": "text"
      },
      "source": [
        "<a href=\"https://colab.research.google.com/github/Inigss/CSST101-3B-1AY2526/blob/main/Predicate_Logic.ipynb\" target=\"_parent\"><img src=\"https://colab.research.google.com/assets/colab-badge.svg\" alt=\"Open In Colab\"/></a>"
      ]
    },
    {
      "cell_type": "markdown",
      "source": [
        "# **1. Unification Checker**"
      ],
      "metadata": {
        "id": "ICQpVa-pLXXF"
      }
    },
    {
      "cell_type": "code",
      "execution_count": 20,
      "metadata": {
        "colab": {
          "base_uri": "https://localhost:8080/"
        },
        "id": "7p5KFw54JMUD",
        "outputId": "8c1cba47-ea9d-479e-bb90-3eaa3cd8516f"
      },
      "outputs": [
        {
          "output_type": "stream",
          "name": "stdout",
          "text": [
            "Cannot be unified\n",
            "{'x': 'y'}\n"
          ]
        }
      ],
      "source": [
        "def unify(p1, p2):\n",
        "    f1, f2 = p1.split(\"(\")[0], p2.split(\"(\")[0]\n",
        "    if f1 != f2: return \"Cannot be unified\"\n",
        "\n",
        "    a1, a2 = p1[p1.find(\"(\")+1:-1].split(\",\"), p2[p2.find(\"(\")+1:-1].split(\",\")\n",
        "    if len(a1) != len(a2): return \"Cannot be unified\"\n",
        "\n",
        "    subs = {}\n",
        "    for x, y in zip(a1, a2):\n",
        "        x, y = x.strip(), y.strip()\n",
        "        if x == y: continue\n",
        "        if x.islower(): subs[x] = y\n",
        "        elif y.islower(): subs[y] = x\n",
        "        else: return \"Cannot be unified\"\n",
        "\n",
        "    return subs or \"Already unified\"\n",
        "print(unify(\"Knows(John, x)\", \"Knows(Mary)\"))\n",
        "print(unify(\"Parents(John, x)\", \"Parents(John, y)\"))\n"
      ]
    },
    {
      "cell_type": "markdown",
      "source": [
        "# **2. Forward Chaining**"
      ],
      "metadata": {
        "id": "imViwbCCLwiT"
      }
    },
    {
      "cell_type": "code",
      "source": [
        "beings = {\"Being(Socrates)\", \"Being(Plato)\"}\n",
        "connections = [(\"Being\", \"Mortal\"), (\"Mortal\", \"Dies\"), (\"Dies\", \"Decompose\"), (\"Decompose\", \"Skeletonization\")]\n",
        "\n",
        "def fact_sort_key(fact):\n",
        "    predicate = fact.split(\"(\")[0]\n",
        "    try:\n",
        "        return [r[0] for r in connections].index(predicate)\n",
        "    except ValueError:\n",
        "        return len(connections)\n",
        "\n",
        "\n",
        "previous_facts = set()\n",
        "while facts != previous_facts:\n",
        "    previous_facts = facts.copy()\n",
        "\n",
        "    for p, c in connections:\n",
        "        new_facts = set()\n",
        "        for f in list(facts):\n",
        "            if f.startswith(p):\n",
        "                name = f[f.find(\"(\")+1:-1]\n",
        "                new_facts.add(f\"{c}({name})\")\n",
        "\n",
        "        if new_facts:\n",
        "            facts.update(new_facts)\n",
        "\n",
        "\n",
        "print(\"Final facts:\", sorted(list(facts), key=fact_sort_key))\n"
      ],
      "metadata": {
        "colab": {
          "base_uri": "https://localhost:8080/"
        },
        "id": "fGkkVR6gLw0T",
        "outputId": "a738593c-6767-4495-e624-7fdc0588ff6f"
      },
      "execution_count": 28,
      "outputs": [
        {
          "output_type": "stream",
          "name": "stdout",
          "text": [
            "Final facts: ['Human(Plato)', 'Human(Socrates)', 'Mortal(Socrates)', 'Mortal(Plato)', 'Dies(Plato)', 'Dies(Socrates)', 'Decompose(Socrates)', 'Decompose(Plato)', 'Skeletonization(Plato)', 'Skeletonization(Socrates)']\n"
          ]
        }
      ]
    },
    {
      "cell_type": "markdown",
      "source": [
        "# **3. Backward Chaining**"
      ],
      "metadata": {
        "id": "X59MBhaXL-Z0"
      }
    },
    {
      "cell_type": "code",
      "source": [
        "facts = {\"Student(Ana)\", \"Studies(Ana)\", \"Submits(Ana, IT101)\"}\n",
        "premises = [\"Studies(x)\", \"Submits(x, IT101)\"]\n",
        "conclusion = \"Passed(x, IT101)\"\n",
        "\n",
        "def prove(goal):\n",
        "    if goal in facts: return True\n",
        "    if goal.startswith(\"Passed(\"):\n",
        "        name = goal[goal.find(\"(\")+1:goal.find(\",\")]\n",
        "        return all(prove(p.replace(\"x\", name)) for p in premises)\n",
        "    return False\n",
        "\n",
        "print(\"Carlos Passed?\", prove(\"Passed(Carlos, IT101)\"))\n",
        "print(\"Ana Passed?\", prove(\"Passed(Ana, IT101)\"))\n"
      ],
      "metadata": {
        "colab": {
          "base_uri": "https://localhost:8080/"
        },
        "id": "Ds8YCe3bL-oz",
        "outputId": "abcddae6-1fc9-49c0-c12d-19a43c747870"
      },
      "execution_count": 29,
      "outputs": [
        {
          "output_type": "stream",
          "name": "stdout",
          "text": [
            "Carlos Passed? False\n",
            "Ana Passed? True\n"
          ]
        }
      ]
    }
  ]
}