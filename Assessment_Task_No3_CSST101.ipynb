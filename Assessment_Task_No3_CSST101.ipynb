{
  "nbformat": 4,
  "nbformat_minor": 0,
  "metadata": {
    "colab": {
      "provenance": [],
      "authorship_tag": "ABX9TyM9vR9xNp+kapqmMkBHcqG8",
      "include_colab_link": true
    },
    "kernelspec": {
      "name": "python3",
      "display_name": "Python 3"
    },
    "language_info": {
      "name": "python"
    }
  },
  "cells": [
    {
      "cell_type": "markdown",
      "metadata": {
        "id": "view-in-github",
        "colab_type": "text"
      },
      "source": [
        "<a href=\"https://colab.research.google.com/github/Inigss/CSST101-3B-1AY2526/blob/main/Assessment_Task_No3_CSST101.ipynb\" target=\"_parent\"><img src=\"https://colab.research.google.com/assets/colab-badge.svg\" alt=\"Open In Colab\"/></a>"
      ]
    },
    {
      "cell_type": "code",
      "execution_count": 3,
      "metadata": {
        "colab": {
          "base_uri": "https://localhost:8080/"
        },
        "id": "KRW99GXtH1lI",
        "outputId": "e42b5b60-9cc3-45f8-aba2-2ef17ebea5a1"
      },
      "outputs": [
        {
          "output_type": "stream",
          "name": "stdout",
          "text": [
            "Part 1 – Substitution Set: {'x': 'Ana'}\n"
          ]
        }
      ],
      "source": [
        "# Assessment Task No. 3 – Predicate Logic\n",
        "# CSST101 | Advance Knowledge Representation and Reasoning\n",
        "\n",
        "#--- Part 1: Unification ---\n",
        "from sympy import symbols\n",
        "\n",
        "substitution = {\"x\": \"Ana\"}\n",
        "print(\"Part 1 – Substitution Set:\", substitution)\n"
      ]
    },
    {
      "cell_type": "code",
      "source": [
        "# --- Part 2: Forward Chaining ---\n",
        "facts = {\n",
        "    \"Juan\": {\"HighGrades\", \"Applied\"},\n",
        "    \"Maria\": {\"HighGrades\", \"DidNotApply\"},\n",
        "    \"Carlos\": {\"StudentLeader\"},\n",
        "    \"Ana\": {\"HighGrades\", \"StudentLeader\", \"Applied\"}\n",
        "}\n",
        "\n",
        "derived = {}\n",
        "\n",
        "for student, props in facts.items():\n",
        "    derived[student] = set()\n",
        "    # Rule 1: HighGrades ∧ Leader ∧ Applied → Eligible\n",
        "    if {\"HighGrades\", \"StudentLeader\", \"Applied\"}.issubset(props):\n",
        "        derived[student].add(\"Eligible\")\n",
        "\n",
        "    # Rule 2: Eligible → Scholarship\n",
        "    if \"Eligible\" in derived[student]:\n",
        "        derived[student].add(\"Scholarship\")\n",
        "\n",
        "    # Rule 3: Scholarship → FinancialSupport\n",
        "    if \"Scholarship\" in derived[student]:\n",
        "        derived[student].add(\"FinancialSupport\")\n",
        "\n",
        "print(\"Part 2 – Derived Facts:\")\n",
        "for s, d in derived.items():\n",
        "    print(f\"{s}: {d}\")\n",
        "\n",
        "print(\"\\nExplanation:\")\n",
        "print(\"- Juan has HighGrades and Applied, but not Leader → Not Eligible.\")\n",
        "print(\"- Maria has HighGrades only, but DidNotApply → Not Eligible.\")\n",
        "print(\"- Carlos is Leader, but no HighGrades → Not Eligible.\")\n",
        "print(\"- Ana meets all (HighGrades, Leader, Applied) → Eligible → Scholarship → FinancialSupport.\")\n"
      ],
      "metadata": {
        "colab": {
          "base_uri": "https://localhost:8080/"
        },
        "id": "ILpH9jFxIn9U",
        "outputId": "2603e5fe-4f1d-4abc-ae95-f8dff0fbd3b3"
      },
      "execution_count": 5,
      "outputs": [
        {
          "output_type": "stream",
          "name": "stdout",
          "text": [
            "Part 2 – Derived Facts:\n",
            "Juan: set()\n",
            "Maria: set()\n",
            "Carlos: set()\n",
            "Ana: {'FinancialSupport', 'Scholarship', 'Eligible'}\n",
            "\n",
            "Explanation:\n",
            "- Juan has HighGrades and Applied, but not Leader → Not Eligible.\n",
            "- Maria has HighGrades only, but DidNotApply → Not Eligible.\n",
            "- Carlos is Leader, but no HighGrades → Not Eligible.\n",
            "- Ana meets all (HighGrades, Leader, Applied) → Eligible → Scholarship → FinancialSupport.\n"
          ]
        }
      ]
    },
    {
      "cell_type": "code",
      "source": [
        "# --- Part 3: Backward Chaining ---\n",
        "def backward_chaining(goal, student):\n",
        "    steps = []\n",
        "\n",
        "    if goal == f\"Scholarship({student})\":\n",
        "        steps.append(f\"Check {goal}\")\n",
        "        steps.append(\"Rule: Eligible(x) → Scholarship(x)\")\n",
        "        steps.append(f\"Need to prove Eligible({student})\")\n",
        "        if \"Eligible\" in derived[student]:\n",
        "            steps.append(f\"Eligible({student}) is true\")\n",
        "            steps.append(goal + \" is TRUE\")\n",
        "        else:\n",
        "            steps.append(f\"Eligible({student}) is FALSE\")\n",
        "            steps.append(goal + \" is FALSE\")\n",
        "\n",
        "    elif goal == f\"FinancialSupport({student})\":\n",
        "        steps.append(f\"Check {goal}\")\n",
        "        steps.append(\"Rule: Scholarship(x) → FinancialSupport(x)\")\n",
        "        steps.append(f\"Need to prove Scholarship({student})\")\n",
        "        if \"Scholarship\" in derived[student]:\n",
        "            steps.append(f\"Scholarship({student}) is true\")\n",
        "            steps.append(goal + \" is TRUE\")\n",
        "        else:\n",
        "            steps.append(f\"Scholarship({student}) is FALSE\")\n",
        "            steps.append(goal + \" is FALSE\")\n",
        "\n",
        "    return steps\n",
        "\n",
        "print(\"Part 3 – Backward Chaining\")\n",
        "for g in [\"Scholarship(Maria)\", \"FinancialSupport(Ana)\"]:\n",
        "    s = g[g.find(\"(\")+1:g.find(\")\")]\n",
        "    reasoning = backward_chaining(g, s)\n",
        "    print(\"\\n\".join(reasoning))\n",
        "    print()\n"
      ],
      "metadata": {
        "colab": {
          "base_uri": "https://localhost:8080/"
        },
        "id": "cyr81LFmI9WK",
        "outputId": "3b5b1fcf-4ff0-4796-b0e7-ceeaa2ccb96c"
      },
      "execution_count": 6,
      "outputs": [
        {
          "output_type": "stream",
          "name": "stdout",
          "text": [
            "Part 3 – Backward Chaining\n",
            "Check Scholarship(Maria)\n",
            "Rule: Eligible(x) → Scholarship(x)\n",
            "Need to prove Eligible(Maria)\n",
            "Eligible(Maria) is FALSE\n",
            "Scholarship(Maria) is FALSE\n",
            "\n",
            "Check FinancialSupport(Ana)\n",
            "Rule: Scholarship(x) → FinancialSupport(x)\n",
            "Need to prove Scholarship(Ana)\n",
            "Scholarship(Ana) is true\n",
            "FinancialSupport(Ana) is TRUE\n",
            "\n"
          ]
        }
      ]
    },
    {
      "cell_type": "code",
      "source": [
        "# --- Part 4: Validity Check (Truth Table) ---\n",
        "import itertools\n",
        "students = {\n",
        "    \"Juan\": (1,0,1),    # HighGrades, Leader=0, Applied\n",
        "    \"Maria\": (1,0,0),   # HighGrades, not Applied\n",
        "    \"Carlos\": (0,1,0),  # Leader only\n",
        "    \"Ana\": (1,1,1)      # All three\n",
        "}\n",
        "\n",
        "print(\"Truth Table for (HighGrades ∧ Leader ∧ Applied) → Eligible\")\n",
        "print(\"HG  L  A  | Eligible\")\n",
        "for combo in itertools.product([0,1], repeat=3):\n",
        "    HG, L, A = combo\n",
        "    Eligible = int(not (HG and L and A) or 1)  # implication\n",
        "    print(HG, \" \", L, \" \", A, \" | \", Eligible)\n",
        "\n",
        "print(\"\\nStudent Test:\")\n",
        "for s, (HG,L,A) in students.items():\n",
        "    eligible = 1 if (HG and L and A) else 0\n",
        "    print(f\"{s}: Eligible = {eligible}\")\n"
      ],
      "metadata": {
        "colab": {
          "base_uri": "https://localhost:8080/"
        },
        "id": "PgpvkVmCI_R0",
        "outputId": "22353c8d-b6e8-4a95-a793-b5d660c19d95"
      },
      "execution_count": 11,
      "outputs": [
        {
          "output_type": "stream",
          "name": "stdout",
          "text": [
            "Truth Table for (HighGrades ∧ Leader ∧ Applied) → Eligible\n",
            "HG  L  A  | Eligible\n",
            "0   0   0  |  1\n",
            "0   0   1  |  1\n",
            "0   1   0  |  1\n",
            "0   1   1  |  1\n",
            "1   0   0  |  1\n",
            "1   0   1  |  1\n",
            "1   1   0  |  1\n",
            "1   1   1  |  1\n",
            "\n",
            "Student Test:\n",
            "Juan: Eligible = 0\n",
            "Maria: Eligible = 0\n",
            "Carlos: Eligible = 0\n",
            "Ana: Eligible = 1\n"
          ]
        }
      ]
    },
    {
      "cell_type": "markdown",
      "source": [
        "# --- 5. Reflection ---\n",
        "Logical reasoning is important because it helps us make fair and consistent decisions. For example, in school, it makes sure that scholarships are given to the right students based on clear rules. In real life, it also helps us avoid mistakes by thinking step by step. It guides us to solve problems in a way that is organized and reasonable."
      ],
      "metadata": {
        "id": "s8koF_tRJ_qu"
      }
    }
  ]
}